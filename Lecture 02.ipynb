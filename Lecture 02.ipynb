{
 "cells": [
  {
   "cell_type": "markdown",
   "metadata": {},
   "source": [
    "# Lecture 02\n",
    "First we extract some tadpole data (description given here: https://www.unc.edu/courses/2010fall/ecol/563/001/docs/lectures/lecture2.htm) and format it nicely in pandas, after which we plot it for visual inspection in a boxplot."
   ]
  },
  {
   "cell_type": "code",
   "execution_count": 1,
   "metadata": {
    "collapsed": false
   },
   "outputs": [
    {
     "name": "stderr",
     "output_type": "stream",
     "text": [
      "/usr/lib/python2.7/dist-packages/matplotlib/__init__.py:874: UserWarning: axes.color_cycle is deprecated and replaced with axes.prop_cycle; please use the latter.\n",
      "  warnings.warn(self.msg_depr % (key, alt_key))\n"
     ]
    }
   ],
   "source": [
    "import pandas as pd\n",
    "import numpy as np\n",
    "\n",
    "%matplotlib inline\n",
    "from IPython.core.pylabtools import figsize\n",
    "import matplotlib.pyplot as plt"
   ]
  },
  {
   "cell_type": "code",
   "execution_count": 2,
   "metadata": {
    "collapsed": false
   },
   "outputs": [
    {
     "data": {
      "text/html": [
       "<div>\n",
       "<table border=\"1\" class=\"dataframe\">\n",
       "  <thead>\n",
       "    <tr style=\"text-align: right;\">\n",
       "      <th></th>\n",
       "      <th>var</th>\n",
       "    </tr>\n",
       "  </thead>\n",
       "  <tbody>\n",
       "    <tr>\n",
       "      <th>27</th>\n",
       "      <td>CouchCoD1NA</td>\n",
       "    </tr>\n",
       "    <tr>\n",
       "      <th>28</th>\n",
       "      <td>CouchCoD1NA</td>\n",
       "    </tr>\n",
       "    <tr>\n",
       "      <th>29</th>\n",
       "      <td>CouchCoD1NA</td>\n",
       "    </tr>\n",
       "    <tr>\n",
       "      <th>30</th>\n",
       "      <td>CouchCoD14.165999889</td>\n",
       "    </tr>\n",
       "    <tr>\n",
       "      <th>31</th>\n",
       "      <td>CouchRuS14.428999901</td>\n",
       "    </tr>\n",
       "    <tr>\n",
       "      <th>32</th>\n",
       "      <td>CouchRuS13.654999971</td>\n",
       "    </tr>\n",
       "    <tr>\n",
       "      <th>33</th>\n",
       "      <td>CouchRuS14.137000084</td>\n",
       "    </tr>\n",
       "    <tr>\n",
       "      <th>34</th>\n",
       "      <td>CouchRuS14.079999924</td>\n",
       "    </tr>\n",
       "  </tbody>\n",
       "</table>\n",
       "</div>"
      ],
      "text/plain": [
       "                     var\n",
       "27           CouchCoD1NA\n",
       "28           CouchCoD1NA\n",
       "29           CouchCoD1NA\n",
       "30  CouchCoD14.165999889\n",
       "31  CouchRuS14.428999901\n",
       "32  CouchRuS13.654999971\n",
       "33  CouchRuS14.137000084\n",
       "34  CouchRuS14.079999924"
      ]
     },
     "execution_count": 2,
     "metadata": {},
     "output_type": "execute_result"
    }
   ],
   "source": [
    "tadpole_data = pd.read_table('http://www.unc.edu/courses/2010fall/ecol/563/001/data/lecture2/tadpoles.txt',\n",
    "                             header=False)\n",
    "tadpole_data[27:35]"
   ]
  },
  {
   "cell_type": "code",
   "execution_count": 3,
   "metadata": {
    "collapsed": false
   },
   "outputs": [
    {
     "data": {
      "text/html": [
       "<div>\n",
       "<table border=\"1\" class=\"dataframe\">\n",
       "  <thead>\n",
       "    <tr style=\"text-align: right;\">\n",
       "      <th></th>\n",
       "      <th>response</th>\n",
       "      <th>treatment</th>\n",
       "    </tr>\n",
       "  </thead>\n",
       "  <tbody>\n",
       "    <tr>\n",
       "      <th>27</th>\n",
       "      <td>NaN</td>\n",
       "      <td>CoD1</td>\n",
       "    </tr>\n",
       "    <tr>\n",
       "      <th>28</th>\n",
       "      <td>NaN</td>\n",
       "      <td>CoD1</td>\n",
       "    </tr>\n",
       "    <tr>\n",
       "      <th>29</th>\n",
       "      <td>NaN</td>\n",
       "      <td>CoD1</td>\n",
       "    </tr>\n",
       "    <tr>\n",
       "      <th>30</th>\n",
       "      <td>4.166</td>\n",
       "      <td>CoD1</td>\n",
       "    </tr>\n",
       "    <tr>\n",
       "      <th>31</th>\n",
       "      <td>4.429</td>\n",
       "      <td>RuS1</td>\n",
       "    </tr>\n",
       "    <tr>\n",
       "      <th>32</th>\n",
       "      <td>3.655</td>\n",
       "      <td>RuS1</td>\n",
       "    </tr>\n",
       "    <tr>\n",
       "      <th>33</th>\n",
       "      <td>4.137</td>\n",
       "      <td>RuS1</td>\n",
       "    </tr>\n",
       "    <tr>\n",
       "      <th>34</th>\n",
       "      <td>4.080</td>\n",
       "      <td>RuS1</td>\n",
       "    </tr>\n",
       "  </tbody>\n",
       "</table>\n",
       "</div>"
      ],
      "text/plain": [
       "    response treatment\n",
       "27       NaN      CoD1\n",
       "28       NaN      CoD1\n",
       "29       NaN      CoD1\n",
       "30     4.166      CoD1\n",
       "31     4.429      RuS1\n",
       "32     3.655      RuS1\n",
       "33     4.137      RuS1\n",
       "34     4.080      RuS1"
      ]
     },
     "execution_count": 3,
     "metadata": {},
     "output_type": "execute_result"
    }
   ],
   "source": [
    "treatment = tadpole_data['var'].str[5:9]\n",
    "response = tadpole_data['var'].str[9:]\n",
    "response = response.convert_objects(convert_numeric=True)\n",
    "tp_df = pd.DataFrame({'treatment': treatment,\n",
    "                      'response': response})\n",
    "tp_df[27:35]"
   ]
  },
  {
   "cell_type": "code",
   "execution_count": 4,
   "metadata": {
    "collapsed": false
   },
   "outputs": [
    {
     "data": {
      "image/png": "[encoded data removed]",
      "text/plain": [
       "<matplotlib.figure.Figure at 0x7fb5c0335790>"
      ]
     },
     "metadata": {},
     "output_type": "display_data"
    }
   ],
   "source": [
    "different_treatments = list(set(tp_df['treatment']))\n",
    "different_responses = [tp_df.loc[tp_df['treatment'] == label]['response'].values for label in different_treatments]\n",
    "\n",
    "figsize(10, 6.6)\n",
    "plt.boxplot(different_responses, labels=different_treatments, vert=False);\n",
    "plt.hold(True)\n",
    "for idx, points in enumerate(different_responses, 1):\n",
    "    plt.scatter(points, [idx]*len(points), alpha=0.4, color='r')\n",
    "plt.title('Different treatment results');"
   ]
  },
  {
   "cell_type": "markdown",
   "metadata": {},
   "source": [
    "###Ordinary Least Squares\n",
    "In the last chapter, we *assumed* that we can use Ordinary Least Squares for inference, without questioning the implications we impose on our model by doing so.\n",
    "There are a couple of things to keep in mind when we use OLS:\n",
    "#### Exogeneity:\n",
    "The errors in the regression should have the conditional mean zero:\n",
    "$$\n",
    "E[\\epsilon | X] = 0\n",
    "$$\n",
    "The immediate consequence of the exogeneity assumption is that the errors have mean zero: $E[\\epsilon] = 0$, and that the regressors are uncorrelated with the errors: $E[X^T \\epsilon] = 0$.\n",
    "The exogeneity assumption is critical for the OLS theory. If it holds then the regressor variables are called exogenous. If it doesn't, then those regressors that are correlated with the error term are called endogenous, and then the OLS estimates become invalid. In such case the method of instrumental variables may be used to carry out inference. \n",
    "#### Spherical errors:\n",
    "$$\n",
    "Var[\\epsilon | X] = \\sigma^2 I_n\n",
    "$$\n",
    "where $I_n$ is the identity matrix of size $n$, and $\\sigma^2$ parameter which determines the variance of each observation, also implying that all observations have the same variance. It also implies that the errors are uncorrelated: $E[\\epsilon_i \\epsilon_j | X] = 0$, for all $i$ and $j$.\n",
    "#### Which assumption does not hold?\n",
    "We can see, by looking at the image displaying our data that our variances are not equaly distributed. This means that we cannot use OLS. What can we use?"
   ]
  },
  {
   "cell_type": "code",
   "execution_count": 5,
   "metadata": {
    "collapsed": false
   },
   "outputs": [
    {
     "data": {
      "text/html": [
       "<div>\n",
       "<table border=\"1\" class=\"dataframe\">\n",
       "  <thead>\n",
       "    <tr style=\"text-align: right;\">\n",
       "      <th></th>\n",
       "      <th>diet</th>\n",
       "      <th>family</th>\n",
       "      <th>hormones</th>\n",
       "      <th>response</th>\n",
       "    </tr>\n",
       "  </thead>\n",
       "  <tbody>\n",
       "    <tr>\n",
       "      <th>27</th>\n",
       "      <td>D</td>\n",
       "      <td>1</td>\n",
       "      <td>Co</td>\n",
       "      <td>NaN</td>\n",
       "    </tr>\n",
       "    <tr>\n",
       "      <th>28</th>\n",
       "      <td>D</td>\n",
       "      <td>1</td>\n",
       "      <td>Co</td>\n",
       "      <td>NaN</td>\n",
       "    </tr>\n",
       "    <tr>\n",
       "      <th>29</th>\n",
       "      <td>D</td>\n",
       "      <td>1</td>\n",
       "      <td>Co</td>\n",
       "      <td>NaN</td>\n",
       "    </tr>\n",
       "    <tr>\n",
       "      <th>30</th>\n",
       "      <td>D</td>\n",
       "      <td>1</td>\n",
       "      <td>Co</td>\n",
       "      <td>4.166</td>\n",
       "    </tr>\n",
       "    <tr>\n",
       "      <th>31</th>\n",
       "      <td>S</td>\n",
       "      <td>1</td>\n",
       "      <td>Ru</td>\n",
       "      <td>4.429</td>\n",
       "    </tr>\n",
       "    <tr>\n",
       "      <th>32</th>\n",
       "      <td>S</td>\n",
       "      <td>1</td>\n",
       "      <td>Ru</td>\n",
       "      <td>3.655</td>\n",
       "    </tr>\n",
       "    <tr>\n",
       "      <th>33</th>\n",
       "      <td>S</td>\n",
       "      <td>1</td>\n",
       "      <td>Ru</td>\n",
       "      <td>4.137</td>\n",
       "    </tr>\n",
       "    <tr>\n",
       "      <th>34</th>\n",
       "      <td>S</td>\n",
       "      <td>1</td>\n",
       "      <td>Ru</td>\n",
       "      <td>4.080</td>\n",
       "    </tr>\n",
       "  </tbody>\n",
       "</table>\n",
       "</div>"
      ],
      "text/plain": [
       "   diet  family hormones  response\n",
       "27    D       1       Co       NaN\n",
       "28    D       1       Co       NaN\n",
       "29    D       1       Co       NaN\n",
       "30    D       1       Co     4.166\n",
       "31    S       1       Ru     4.429\n",
       "32    S       1       Ru     3.655\n",
       "33    S       1       Ru     4.137\n",
       "34    S       1       Ru     4.080"
      ]
     },
     "execution_count": 5,
     "metadata": {},
     "output_type": "execute_result"
    }
   ],
   "source": [
    "# Let's separate the data by all control factors:\n",
    "# NoS2: No - hormonal manipulation\n",
    "#       S  - diet\n",
    "#       2  - family\n",
    "hormones = tadpole_data['var'].str[5:7]\n",
    "diet = tadpole_data['var'].str[7:8]\n",
    "family = tadpole_data['var'].str[8:9].convert_objects(convert_numeric=True)\n",
    "\n",
    "tp_df_cat = pd.DataFrame({'hormones': hormones,\n",
    "                      'diet': diet,\n",
    "                      'family': family,\n",
    "                      'response': response})\n",
    "tp_df_cat[27:35]"
   ]
  },
  {
   "cell_type": "code",
   "execution_count": 7,
   "metadata": {
    "collapsed": false
   },
   "outputs": [
    {
     "name": "stdout",
     "output_type": "stream",
     "text": [
      "Coefficients:    [[ 0.          0.56152385  0.62730258  0.16685879  0.1990192 ]]\n",
      "Residuals:       0.0614227193229\n",
      "Variance score:  0.602083926442\n"
     ]
    }
   ],
   "source": [
    "# We want to make variables which we can use to\n",
    "# make classification.\n",
    "# This we cannot do with the hormons variable, since\n",
    "# itself describes categories. Therefore, we'll create\n",
    "# two new variables, Co and Ru, which will both be zero\n",
    "# if the hormons has value 'No' - meaning nothing added.\n",
    "\n",
    "from patsy import dmatrices\n",
    "from sklearn import linear_model\n",
    "\n",
    "\n",
    "tp_filtered = tp_df_cat[tp_df_cat['response'].notnull()]\n",
    "# We will use patsy automagical creation of predictor\n",
    "# matrices for categorical variables\n",
    "outcome, predictors = dmatrices('response ~ hormones + diet + family', tp_filtered)\n",
    "\n",
    "lin_regr = linear_model.LinearRegression()\n",
    "lin_regr.fit(predictors, outcome)\n",
    "\n",
    "print 'Coefficients:   ', lin_regr.coef_\n",
    "print 'Residuals:      ', np.mean((outcome - lin_regr.predict(predictors))**2)\n",
    "print 'Variance score: ', lin_regr.score(predictors, outcome)"
   ]
  },
  {
   "cell_type": "markdown",
   "metadata": {},
   "source": [
    "###Model evaluation\n",
    "\n",
    "Let's look at what SciKit offers for model evaluation. To quote them:\n",
    "\n",
    "*\"The sklearn.metrics module implements several loss, score, and utility functions to measure regression performance. Some of those have been enhanced to handle the multioutput case: mean_squared_error, mean_absolute_error, explained_variance_score and r2_score.\"*\n",
    "\n",
    "####Explained variance score\n",
    "$$\n",
    "\\textrm{explained variance} (y, \\hat{y}) = 1 - \\frac{Var(y - \\hat{y})}{Var(y)}\n",
    "$$\n",
    "\n",
    "####Mean absolute error\n",
    "The mean_absolute_error function computes mean absolute error, a risk metric corresponding to the expected value of the absolute error loss or $l_1$-norm loss.\n",
    "\n",
    "$$\n",
    "\\textrm{MAE}(y, \\hat{y}) = \\frac{1}{n_{samples}} \\sum_{i=1}^{n_{samples} - 1}|y_i - \\hat{y}_i|\n",
    "$$"
   ]
  },
  {
   "cell_type": "code",
   "execution_count": 10,
   "metadata": {
    "collapsed": false
   },
   "outputs": [
    {
     "name": "stdout",
     "output_type": "stream",
     "text": [
      " Explained variance score:  0.602083926442  (out of max 1.)\n",
      "Mean absolute error:       0.180471172781\n",
      "Mean squared error:        0.0614227193229\n",
      "R-squared statistic:       0.602083926442\n",
      "\n",
      "[[ 0.          0.56152385  0.62730258  0.16685879  0.1990192 ]]\n",
      "[         nan  23.15816797  45.65925472   4.03888583  22.74171744]\n",
      "[             nan   2.65747369e-06   1.08141421e-10   4.55967755e-02\n",
      "   3.23761046e-06]\n"
     ]
    }
   ],
   "source": [
    "# Explained variance score:\n",
    "import sklearn.metrics as metrics\n",
    "from sklearn.feature_selection import f_regression\n",
    "\n",
    "print 'Explained variance score: ', metrics.explained_variance_score(outcome, lin_regr.predict(predictors)), ' (out of max 1.)'\n",
    "print 'Mean absolute error:      ', metrics.mean_absolute_error(outcome, lin_regr.predict(predictors))\n",
    "print 'Mean squared error:       ', metrics.mean_squared_error(outcome, lin_regr.predict(predictors))\n",
    "print 'R-squared statistic:      ', metrics.r2_score(outcome, lin_regr.predict(predictors))\n",
    "\n",
    "Fs, ps = f_regression(predictors, outcome)\n",
    "print\n",
    "print lin_regr.coef_\n",
    "print Fs\n",
    "print ps"
   ]
  },
  {
   "cell_type": "code",
   "execution_count": 12,
   "metadata": {
    "collapsed": false
   },
   "outputs": [
    {
     "name": "stdout",
     "output_type": "stream",
     "text": [
      " Coefficients:              [[ 0.          0.44861301  0.53392008 -0.29120492  0.25183396  0.38366324\n",
      "   0.08071494  0.06318859  0.00345173  0.25878506 -0.15599541 -0.14057672]]\n",
      "Variance score:            0.626376517987\n",
      "Explained variance score:  0.626376517987  (out of max 1.)\n",
      "Mean absolute error:       0.176643428299\n",
      "Mean squared error:        0.0576728908258\n",
      "R-squared statistic:       0.626376517987\n"
     ]
    }
   ],
   "source": [
    "# Let's try to add some interactions:\n",
    "\n",
    "_model = '''response ~ hormones + diet + family + hormones:diet + hormones:family + diet:family + hormones:diet:family'''\n",
    "\n",
    "outcome, predictors = dmatrices(_model, tp_filtered, return_type=\"dataframe\")\n",
    "\n",
    "int_regr = linear_model.LinearRegression()\n",
    "int_regr.fit(predictors, outcome)\n",
    "\n",
    "print 'Coefficients:             ', int_regr.coef_\n",
    "print 'Variance score:           ', int_regr.score(predictors, outcome)\n",
    "print 'Explained variance score: ', metrics.explained_variance_score(outcome, int_regr.predict(predictors)), ' (out of max 1.)'\n",
    "print 'Mean absolute error:      ', metrics.mean_absolute_error(outcome, int_regr.predict(predictors))\n",
    "print 'Mean squared error:       ', metrics.mean_squared_error(outcome, int_regr.predict(predictors))\n",
    "print 'R-squared statistic:      ', metrics.r2_score(outcome, int_regr.predict(predictors))"
   ]
  },
  {
   "cell_type": "code",
   "execution_count": 13,
   "metadata": {
    "collapsed": false
   },
   "outputs": [
    {
     "name": "stdout",
     "output_type": "stream",
     "text": [
      "                               Intercept: (+0.00)\tF: nan \tp-value: nan\n",
      "                          hormones[T.No]: (+0.45)\tF: 23.16 \tp-value: 2.657474e-06\n",
      "                          hormones[T.Ru]: (+0.53)\tF: 45.66 \tp-value: 1.081414e-10\n",
      "                               diet[T.S]: (-0.29)\tF: 4.04 \tp-value: 4.559678e-02\n",
      "                hormones[T.No]:diet[T.S]: (+0.25)\tF: 16.65 \tp-value: 6.137992e-05\n",
      "                hormones[T.Ru]:diet[T.S]: (+0.38)\tF: 48.71 \tp-value: 2.952965e-11\n",
      "                                  family: (+0.08)\tF: 22.74 \tp-value: 3.237610e-06\n",
      "                   hormones[T.No]:family: (+0.06)\tF: 29.50 \tp-value: 1.384351e-07\n",
      "                   hormones[T.Ru]:family: (+0.00)\tF: 48.16 \tp-value: 3.731496e-11\n",
      "                        diet[T.S]:family: (+0.26)\tF: 15.83 \tp-value: 9.196328e-05\n",
      "         hormones[T.No]:diet[T.S]:family: (-0.16)\tF: 21.42 \tp-value: 6.087169e-06\n",
      "         hormones[T.Ru]:diet[T.S]:family: (-0.14)\tF: 51.46 \tp-value: 9.274591e-12\n"
     ]
    }
   ],
   "source": [
    "# Feature selection\n",
    "\n",
    "F, pval = f_regression(predictors, outcome)\n",
    "for i, pred in enumerate(predictors):\n",
    "    print '%40s: (%+.2f)\\tF: %02.2f \\tp-value: %e' % (pred, int_regr.coef_[0][i], F[i], pval[i])"
   ]
  },
  {
   "cell_type": "code",
   "execution_count": 15,
   "metadata": {
    "collapsed": false
   },
   "outputs": [
    {
     "name": "stdout",
     "output_type": "stream",
     "text": [
      " Coefficients:              [ 0.          0.13442594  0.20383558  0.          0.          0.          0.\n",
      "  0.21771449  0.16916749  0.07262305  0.          0.07482266]\n",
      "Variance score:            0.582381578264\n",
      "Explained variance score:  0.582381578264  (out of max 1.)\n",
      "Mean absolute error:       0.195139159669\n",
      "Mean squared error:        0.0644639933065\n",
      "R-squared statistic:       0.582381578264\n",
      "0\n",
      "                               Intercept: (+0.00)\tF: nan \tp-value: nan\n",
      "1\n",
      "                          hormones[T.No]: (+0.13)\tF: 23.16 \tp-value: 2.657474e-06\n",
      "2\n",
      "                          hormones[T.Ru]: (+0.20)\tF: 45.66 \tp-value: 1.081414e-10\n",
      "3\n",
      "                               diet[T.S]: (+0.00)\tF: 4.04 \tp-value: 4.559678e-02\n",
      "4\n",
      "                hormones[T.No]:diet[T.S]: (+0.00)\tF: 16.65 \tp-value: 6.137992e-05\n",
      "5\n",
      "                hormones[T.Ru]:diet[T.S]: (+0.00)\tF: 48.71 \tp-value: 2.952965e-11\n",
      "6\n",
      "                                  family: (+0.00)\tF: 22.74 \tp-value: 3.237610e-06\n",
      "7\n",
      "                   hormones[T.No]:family: (+0.22)\tF: 29.50 \tp-value: 1.384351e-07\n",
      "8\n",
      "                   hormones[T.Ru]:family: (+0.17)\tF: 48.16 \tp-value: 3.731496e-11\n",
      "9\n",
      "                        diet[T.S]:family: (+0.07)\tF: 15.83 \tp-value: 9.196328e-05\n",
      "10\n",
      "         hormones[T.No]:diet[T.S]:family: (+0.00)\tF: 21.42 \tp-value: 6.087169e-06\n",
      "11\n",
      "         hormones[T.Ru]:diet[T.S]:family: (+0.07)\tF: 51.46 \tp-value: 9.274591e-12\n",
      "\n",
      "Alpha: 0.01, Dimensionality reduction: 6\n"
     ]
    }
   ],
   "source": [
    "alpha = 0.01\n",
    "ls = linear_model.Lasso(alpha=alpha)\n",
    "ls.fit(predictors, outcome)\n",
    "\n",
    "print 'Coefficients:             ', ls.coef_\n",
    "print 'Variance score:           ', ls.score(predictors, outcome)\n",
    "print 'Explained variance score: ', metrics.explained_variance_score(outcome, ls.predict(predictors)), ' (out of max 1.)'\n",
    "print 'Mean absolute error:      ', metrics.mean_absolute_error(outcome, ls.predict(predictors))\n",
    "print 'Mean squared error:       ', metrics.mean_squared_error(outcome, ls.predict(predictors))\n",
    "print 'R-squared statistic:      ', metrics.r2_score(outcome, ls.predict(predictors))\n",
    "\n",
    "F, pval = f_regression(predictors, outcome)\n",
    "ls.coef_\n",
    "for i, pred in enumerate(predictors):\n",
    "    print i\n",
    "    print '%40s: (%+.2f)\\tF: %02.2f \\tp-value: %e' % (pred, ls.coef_[i], F[i], pval[i])\n",
    "\n",
    "print\n",
    "print 'Alpha: %.2f, Dimensionality reduction: %d' % (alpha, len(ls.coef_) - np.count_nonzero(ls.coef_))"
   ]
  },
  {
   "cell_type": "code",
   "execution_count": 16,
   "metadata": {
    "collapsed": false
   },
   "outputs": [
    {
     "data": {
      "image/png": "[encoded data removed]",
      "text/plain": [
       "<matplotlib.figure.Figure at 0x7fb5b9862c50>"
      ]
     },
     "metadata": {},
     "output_type": "display_data"
    }
   ],
   "source": [
    "# Let's test dimensionality reduction and model usability\n",
    "# We know that the maximum R-squared is 0.626376517987 \n",
    "# (when we allow the most degrees of freedom)\n",
    "\n",
    "r2_max = 0.626376517987\n",
    "alphas = np.linspace(0.0001, 0.15, 100)\n",
    "r2s = []\n",
    "dims_used = []\n",
    "\n",
    "for alpha in alphas:\n",
    "    ls = linear_model.Lasso(alpha=alpha)\n",
    "    ls.fit(predictors, outcome)\n",
    "    r2s.append(metrics.r2_score(outcome, ls.predict(predictors)))\n",
    "    dims_used.append(np.count_nonzero(ls.coef_))\n",
    "\n",
    "fig, ax1 = plt.subplots()\n",
    "ax1.semilogx(alphas, r2s, color='#41b6c4')\n",
    "ax1.set_xlabel(r'$\\alpha$')\n",
    "# Make the y-axis label and tick labels match the line color.\n",
    "ax1.set_ylabel(r'$R^2$',  color='#2b7983')\n",
    "#for tl in ax1.get_yticklabels():\n",
    "#    tl.set_color('b')\n",
    "\n",
    "\n",
    "ax2 = ax1.twinx()\n",
    "ax2.semilogx(alphas, dims_used, 'o', color='#41ab5d')\n",
    "ax2.set_ylabel('Dimensions used', color='#00441b');"
   ]
  }
 ],
 "metadata": {
  "kernelspec": {
   "display_name": "Python 2",
   "language": "python",
   "name": "python2"
  },
  "language_info": {
   "codemirror_mode": {
    "name": "ipython",
    "version": 2
   },
   "file_extension": ".py",
   "mimetype": "text/x-python",
   "name": "python",
   "nbconvert_exporter": "python",
   "pygments_lexer": "ipython2",
   "version": "2.7.6"
  }
 },
 "nbformat": 4,
 "nbformat_minor": 0
}
